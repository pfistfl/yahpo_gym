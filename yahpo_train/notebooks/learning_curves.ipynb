{
 "cells": [
  {
   "cell_type": "code",
   "execution_count": 92,
   "metadata": {},
   "outputs": [],
   "source": [
    "from yahpo_gym.configuration import config_dict, cfg\n",
    "from yahpo_gym.benchmark_set import BenchmarkSet\n",
    "from yahpo_gym import local_config\n",
    "import matplotlib.pyplot as plt\n",
    "import pandas as pd"
   ]
  },
  {
   "cell_type": "code",
   "execution_count": 123,
   "metadata": {},
   "outputs": [],
   "source": [
    "bench = BenchmarkSet(\"iaml_ranger\", active_session=False, check=False)\n",
    "bench.config.config[\"model\"] = \"model_v1_9.onnx\"\n",
    "bench.active_session\n",
    "bench.set_session()"
   ]
  },
  {
   "cell_type": "code",
   "execution_count": 129,
   "metadata": {},
   "outputs": [],
   "source": [
    "df = pd.read_csv(bench.config.get_path(\"test_dataset\"))"
   ]
  },
  {
   "cell_type": "code",
   "execution_count": 130,
   "metadata": {},
   "outputs": [],
   "source": [
    "def plot_true_lc(ccs, target):\n",
    "    # Subset data to obtain learning curve for config\n",
    "    for cc in ccs:\n",
    "        x = {k:list(cc[k].values())[0] for k in bench.config_space.get_hyperparameter_names()}\n",
    "        config = pd.DataFrame(data = x, index = [0])\n",
    "        config.drop(bench.config.fidelity_params, axis = 1, inplace=True)\n",
    "        pdf = df.merge(config, on=list(config.columns.values))\n",
    "        pdf = pdf.sort_values(bench.config.fidelity_params[0])\n",
    "        plt.plot(pdf[bench.config.fidelity_params[0]], pdf[target], marker = \"o\", linestyle=\"None\")"
   ]
  },
  {
   "cell_type": "code",
   "execution_count": 133,
   "metadata": {},
   "outputs": [],
   "source": [
    "def plot_lc(ccs, target, fidelity_sequence):\n",
    "    for cc in ccs:\n",
    "        x = {k:list(cc[k].values())[0] for k in bench.config_space.get_hyperparameter_names()}\n",
    "        x[bench.config.instance_names] = str(x[bench.config.instance_names])\n",
    "        if bench.config.config_id == \"iaml_ranger\":\n",
    "            if x[\"replace\"]:\n",
    "                x[\"replace\"] = \"TRUE\"\n",
    "            else:\n",
    "                x[\"replace\"] = \"FALSE\"\n",
    "        out = []\n",
    "        for fidelity in fidelity_sequence:\n",
    "            val = x.copy()\n",
    "            val.update({bench.config.fidelity_params[0]: fidelity})\n",
    "            out += [val]\n",
    "\n",
    "        res = bench.objective_function(out)\n",
    "        res = [x[target] for x in res]\n",
    "        plt.plot(fidelity_sequence, res)"
   ]
  },
  {
   "cell_type": "code",
   "execution_count": 137,
   "metadata": {},
   "outputs": [
    {
     "data": {
      "image/png": "[encoded data removed]",
      "text/plain": [
       "<Figure size 640x480 with 1 Axes>"
      ]
     },
     "metadata": {},
     "output_type": "display_data"
    }
   ],
   "source": [
    "# Draw a sample configuration\n",
    "colors = [\"blue\", \"orange\", \"green\", \"red\", \"purple\", \"brown\", \"pink\", \"gray\", \"olive\", \"cyan\"]\n",
    "ccs = [df.sample(1).to_dict() for i in range(10)]\n",
    "target = \"nf\"\n",
    "fidelity_sequence = [0.05, 0.10, 0.2, 0.4, 0.6, 0.8, 1.00]\n",
    "plot_true_lc(ccs, target=target)\n",
    "plot_lc(ccs, target=target, fidelity_sequence=fidelity_sequence)"
   ]
  },
  {
   "cell_type": "code",
   "execution_count": null,
   "metadata": {},
   "outputs": [],
   "source": []
  },
  {
   "cell_type": "code",
   "execution_count": null,
   "metadata": {},
   "outputs": [],
   "source": []
  }
 ],
 "metadata": {
  "interpreter": {
   "hash": "ad33c89a3db67bdfe5fd2b730189669bf1bcf1b69024c438924b107c2144aef0"
  },
  "kernelspec": {
   "display_name": "yahpo_train",
   "language": "python",
   "name": "yahpo_train"
  },
  "language_info": {
   "codemirror_mode": {
    "name": "ipython",
    "version": 3
   },
   "file_extension": ".py",
   "mimetype": "text/x-python",
   "name": "python",
   "nbconvert_exporter": "python",
   "pygments_lexer": "ipython3",
   "version": "3.9.17"
  }
 },
 "nbformat": 4,
 "nbformat_minor": 2
}
