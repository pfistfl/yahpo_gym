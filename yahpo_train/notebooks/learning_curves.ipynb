{
 "cells": [
  {
   "cell_type": "code",
   "execution_count": 56,
   "metadata": {},
   "outputs": [],
   "source": [
    "from yahpo_gym.configuration import config_dict, cfg\n",
    "from yahpo_gym.benchmark_set import BenchmarkSet\n",
    "from yahpo_gym import local_config\n",
    "import matplotlib.pyplot as plt\n",
    "import pandas as pd"
   ]
  },
  {
   "cell_type": "code",
   "execution_count": 57,
   "metadata": {},
   "outputs": [],
   "source": [
    "bench = BenchmarkSet(\"iaml_glmnet\", active_session=False, check=False)\n",
    "bench.config.config[\"model\"] = \"model_v2.onnx\"\n",
    "bench.active_session\n",
    "bench.set_session()"
   ]
  },
  {
   "cell_type": "code",
   "execution_count": 58,
   "metadata": {},
   "outputs": [],
   "source": [
    "df = pd.read_csv(bench.config.get_path(\"test_dataset\"))"
   ]
  },
  {
   "cell_type": "code",
   "execution_count": 59,
   "metadata": {},
   "outputs": [],
   "source": [
    "def plot_true_lc(ccs, target):\n",
    "    colors = [\"#FF0000\", \"#00FF00\", \"#0000FF\", \"#FFFF00\", \"#FF00FF\",\n",
    "              \"#00FFFF\", \"#FFA500\", \"#800080\", \"#008000\", \"#000080\",\n",
    "              \"#800000\", \"#008080\", \"#808000\", \"#808080\", \"#C0C0C0\",\n",
    "              \"#FFC0CB\", \"#FF4500\", \"#00CED1\", \"#FF1493\", \"#9400D3\"]\n",
    "    # Subset data to obtain learning curve for config\n",
    "    for i, cc in enumerate(ccs):\n",
    "        x = {k:list(cc[k].values())[0] for k in bench.config_space.get_hyperparameter_names()}\n",
    "        config = pd.DataFrame(data = x, index = [0])\n",
    "        config.drop(bench.config.fidelity_params, axis = 1, inplace=True)\n",
    "        pdf = df.merge(config, on=list(config.columns.values))\n",
    "        pdf = pdf.sort_values(bench.config.fidelity_params[0])\n",
    "        plt.plot(pdf[bench.config.fidelity_params[0]], pdf[target],\n",
    "                 color = colors[i], marker = \"o\", linestyle=\"None\", alpha=0.5)"
   ]
  },
  {
   "cell_type": "code",
   "execution_count": 60,
   "metadata": {},
   "outputs": [],
   "source": [
    "def plot_lc(ccs, target, fidelity_sequence):\n",
    "    colors = [\"#FF0000\", \"#00FF00\", \"#0000FF\", \"#FFFF00\", \"#FF00FF\",\n",
    "              \"#00FFFF\", \"#FFA500\", \"#800080\", \"#008000\", \"#000080\",\n",
    "              \"#800000\", \"#008080\", \"#808000\", \"#808080\", \"#C0C0C0\",\n",
    "              \"#FFC0CB\", \"#FF4500\", \"#00CED1\", \"#FF1493\", \"#9400D3\"]\n",
    "    for i, cc in enumerate(ccs):\n",
    "        x = {k:list(cc[k].values())[0] for k in bench.config_space.get_hyperparameter_names()}\n",
    "        x[bench.config.instance_names] = str(x[bench.config.instance_names])\n",
    "        if bench.config.config_id == \"iaml_ranger\":\n",
    "            if x[\"replace\"]:\n",
    "                x[\"replace\"] = \"TRUE\"\n",
    "            else:\n",
    "                x[\"replace\"] = \"FALSE\"\n",
    "        out = []\n",
    "        for fidelity in fidelity_sequence:\n",
    "            val = x.copy()\n",
    "            val.update({bench.config.fidelity_params[0]: fidelity})\n",
    "            out += [val]\n",
    "\n",
    "        res = bench.objective_function(out)\n",
    "        res = [x[target] for x in res]\n",
    "        plt.plot(fidelity_sequence, res, color = colors[i])"
   ]
  },
  {
   "cell_type": "code",
   "execution_count": 72,
   "metadata": {},
   "outputs": [
    {
     "data": {
      "image/png": "[encoded data removed]",
      "text/plain": [
       "<Figure size 640x480 with 1 Axes>"
      ]
     },
     "metadata": {},
     "output_type": "display_data"
    }
   ],
   "source": [
    "# Draw a sample configuration\n",
    "ccs = [df.sample(1).to_dict() for i in range(20)]\n",
    "target = \"auc\"\n",
    "#target = \"val_accuracy\"\n",
    "fidelity_sequence = [0.05, 0.10, 0.2, 0.4, 0.6, 0.8, 1.00]\n",
    "#fidelity_sequence = range(1, 51)\n",
    "plot_true_lc(ccs, target=target)\n",
    "plot_lc(ccs, target=target, fidelity_sequence=fidelity_sequence)"
   ]
  },
  {
   "cell_type": "code",
   "execution_count": 21,
   "metadata": {},
   "outputs": [
    {
     "data": {
      "text/plain": [
       "[{'task_id': {1383: 1489},\n",
       "  'alpha': {1383: 0.06669726},\n",
       "  's': {1383: 0.015187909},\n",
       "  'trainsize': {1383: 0.8},\n",
       "  'mmce': {1383: 0.25425634},\n",
       "  'f1': {1383: 0.829012},\n",
       "  'auc': {1383: 0.81232864},\n",
       "  'logloss': {1383: 0.4733299},\n",
       "  'rammodel': {1383: 0.063784},\n",
       "  'timetrain': {1383: 0.18},\n",
       "  'mec': {1383: 1.0},\n",
       "  'ias': {1383: 4.9340665e-06},\n",
       "  'nf': {1383: 5.0}},\n",
       " {'task_id': {4636: 40981},\n",
       "  'alpha': {4636: 0.22551739},\n",
       "  's': {4636: 0.0036607224},\n",
       "  'trainsize': {4636: 0.1},\n",
       "  'mmce': {4636: 0.24782608},\n",
       "  'f1': {4636: 0.7764069},\n",
       "  'auc': {4636: 0.8092497},\n",
       "  'logloss': {4636: 1.2679405},\n",
       "  'rammodel': {4636: 0.143216},\n",
       "  'timetrain': {4636: 0.252},\n",
       "  'mec': {4636: 4.178078},\n",
       "  'ias': {4636: 0.06904968},\n",
       "  'nf': {4636: 14.0}},\n",
       " {'task_id': {1204: 41146},\n",
       "  'alpha': {1204: 0.9292948},\n",
       "  's': {1204: 36.37347},\n",
       "  'trainsize': {1204: 0.05},\n",
       "  'mmce': {1204: 0.5052673},\n",
       "  'f1': {1204: 0.0},\n",
       "  'auc': {1204: 0.5},\n",
       "  'logloss': {1204: 0.69463414},\n",
       "  'rammodel': {1204: 0.103072},\n",
       "  'timetrain': {1204: 0.15},\n",
       "  'mec': {1204: 0.0},\n",
       "  'ias': {1204: 0.0},\n",
       "  'nf': {1204: 0.0}},\n",
       " {'task_id': {3644: 1067},\n",
       "  'alpha': {3644: 0.5074472},\n",
       "  's': {3644: 0.036251277},\n",
       "  'trainsize': {3644: 1.0},\n",
       "  'mmce': {3644: 0.1441276},\n",
       "  'f1': {3644: 0.92031926},\n",
       "  'auc': {3644: 0.7938177},\n",
       "  'logloss': {3644: 0.3605959},\n",
       "  'rammodel': {3644: 0.100856},\n",
       "  'timetrain': {3644: 0.44},\n",
       "  'mec': {3644: 1.0},\n",
       "  'ias': {3644: 0.012311833},\n",
       "  'nf': {3644: 8.0}},\n",
       " {'task_id': {1011: 40981},\n",
       "  'alpha': {1011: 0.041267987},\n",
       "  's': {1011: 6.582433},\n",
       "  'trainsize': {1011: 0.4},\n",
       "  'mmce': {1011: 0.44492754},\n",
       "  'f1': {1011: 0.71283543},\n",
       "  'auc': {1011: 0.86287326},\n",
       "  'logloss': {1011: 0.68279064},\n",
       "  'rammodel': {1011: 0.145512},\n",
       "  'timetrain': {1011: 0.235},\n",
       "  'mec': {1011: 1.0},\n",
       "  'ias': {1011: 0.0},\n",
       "  'nf': {1011: 1.0}},\n",
       " {'task_id': {4009: 40981},\n",
       "  'alpha': {4009: 0.14189062},\n",
       "  's': {4009: 84.39696},\n",
       "  'trainsize': {4009: 0.6},\n",
       "  'mmce': {4009: 0.44492754},\n",
       "  'f1': {4009: 0.71320736},\n",
       "  'auc': {4009: 0.5},\n",
       "  'logloss': {4009: 0.68914044},\n",
       "  'rammodel': {4009: 0.137776},\n",
       "  'timetrain': {4009: 0.209},\n",
       "  'mec': {4009: 0.0},\n",
       "  'ias': {4009: 0.0},\n",
       "  'nf': {4009: 0.0}},\n",
       " {'task_id': {3213: 41146},\n",
       "  'alpha': {3213: 0.74782777},\n",
       "  's': {3213: 0.77621615},\n",
       "  'trainsize': {3213: 0.6},\n",
       "  'mmce': {3213: 0.5093636},\n",
       "  'f1': {3213: 0.0},\n",
       "  'auc': {3213: 0.5},\n",
       "  'logloss': {3213: 0.69379735},\n",
       "  'rammodel': {3213: 0.094496},\n",
       "  'timetrain': {3213: 0.211},\n",
       "  'mec': {3213: 0.0},\n",
       "  'ias': {3213: 0.0},\n",
       "  'nf': {3213: 0.0}},\n",
       " {'task_id': {1371: 1067},\n",
       "  'alpha': {1371: 0.52657604},\n",
       "  's': {1371: 0.007063597},\n",
       "  'trainsize': {1371: 0.1},\n",
       "  'mmce': {1371: 0.16028188},\n",
       "  'f1': {1371: 0.9093683},\n",
       "  'auc': {1371: 0.7744857},\n",
       "  'logloss': {1371: 0.38740247},\n",
       "  'rammodel': {1371: 0.096528},\n",
       "  'timetrain': {1371: 0.138},\n",
       "  'mec': {1371: 1.0},\n",
       "  'ias': {1371: 0.16612628},\n",
       "  'nf': {1371: 13.0}},\n",
       " {'task_id': {84: 1489},\n",
       "  'alpha': {84: 0.03607771},\n",
       "  's': {84: 0.0435998},\n",
       "  'trainsize': {84: 0.8},\n",
       "  'mmce': {84: 0.2633234},\n",
       "  'f1': {84: 0.8254971},\n",
       "  'auc': {84: 0.81256753},\n",
       "  'logloss': {84: 0.4770297},\n",
       "  'rammodel': {84: 0.065328},\n",
       "  'timetrain': {84: 0.188},\n",
       "  'mec': {84: 1.0},\n",
       "  'ias': {84: 4.909231e-06},\n",
       "  'nf': {84: 5.0}},\n",
       " {'task_id': {2681: 40981},\n",
       "  'alpha': {2681: 0.36927083},\n",
       "  's': {2681: 0.0050475346},\n",
       "  'trainsize': {2681: 1.0},\n",
       "  'mmce': {2681: 0.14057972},\n",
       "  'f1': {2681: 0.8698245},\n",
       "  'auc': {2681: 0.922125},\n",
       "  'logloss': {2681: 0.35130644},\n",
       "  'rammodel': {2681: 0.134128},\n",
       "  'timetrain': {2681: 0.214},\n",
       "  'mec': {2681: 1.8315563},\n",
       "  'ias': {2681: 7.2408216e-06},\n",
       "  'nf': {2681: 12.0}}]"
      ]
     },
     "execution_count": 21,
     "metadata": {},
     "output_type": "execute_result"
    }
   ],
   "source": [
    "ccs"
   ]
  },
  {
   "cell_type": "code",
   "execution_count": null,
   "metadata": {},
   "outputs": [],
   "source": []
  },
  {
   "cell_type": "code",
   "execution_count": null,
   "metadata": {},
   "outputs": [],
   "source": []
  }
 ],
 "metadata": {
  "interpreter": {
   "hash": "ad33c89a3db67bdfe5fd2b730189669bf1bcf1b69024c438924b107c2144aef0"
  },
  "kernelspec": {
   "display_name": "yahpo_train",
   "language": "python",
   "name": "yahpo_train"
  },
  "language_info": {
   "codemirror_mode": {
    "name": "ipython",
    "version": 3
   },
   "file_extension": ".py",
   "mimetype": "text/x-python",
   "name": "python",
   "nbconvert_exporter": "python",
   "pygments_lexer": "ipython3",
   "version": "3.9.17"
  }
 },
 "nbformat": 4,
 "nbformat_minor": 2
}
