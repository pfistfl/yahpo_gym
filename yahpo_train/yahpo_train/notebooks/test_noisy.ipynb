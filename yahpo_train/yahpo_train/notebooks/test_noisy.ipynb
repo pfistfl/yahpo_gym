{
 "cells": [
  {
   "cell_type": "code",
   "execution_count": 1,
   "metadata": {},
   "outputs": [],
   "source": [
    "from yahpo_gym.configuration import config_dict, cfg\n",
    "from yahpo_gym.benchmark_set import BenchmarkSet\n",
    "from yahpo_gym import local_config\n",
    "import matplotlib.pyplot as plt\n",
    "import pandas as pd"
   ]
  },
  {
   "cell_type": "code",
   "execution_count": 59,
   "metadata": {},
   "outputs": [
    {
     "data": {
      "text/plain": [
       "Configuration space object:\n",
       "  Hyperparameters:\n",
       "    alpha, Type: UniformFloat, Range: [0.00010000000000000009, 999.9999999999998], Default: 0.316227766, on log-scale\n",
       "    booster, Type: Categorical, Choices: {gblinear, gbtree, dart}, Default: gblinear\n",
       "    colsample_bylevel, Type: UniformFloat, Range: [0.01, 1.0], Default: 0.505\n",
       "    colsample_bytree, Type: UniformFloat, Range: [0.01, 1.0], Default: 0.505\n",
       "    eta, Type: UniformFloat, Range: [0.00010000000000000009, 1.0], Default: 0.01, on log-scale\n",
       "    gamma, Type: UniformFloat, Range: [0.00010000000000000009, 6.999999999999999], Default: 0.0264575131, on log-scale\n",
       "    lambda, Type: UniformFloat, Range: [0.00010000000000000009, 999.9999999999998], Default: 0.316227766, on log-scale\n",
       "    max_depth, Type: UniformInteger, Range: [1, 15], Default: 8\n",
       "    min_child_weight, Type: UniformFloat, Range: [2.718281828459045, 149.99999999999997], Default: 20.1926292064, on log-scale\n",
       "    nrounds, Type: UniformInteger, Range: [3, 2000], Default: 77, on log-scale\n",
       "    rate_drop, Type: UniformFloat, Range: [0.0, 1.0], Default: 0.5\n",
       "    skip_drop, Type: UniformFloat, Range: [0.0, 1.0], Default: 0.5\n",
       "    subsample, Type: UniformFloat, Range: [0.1, 1.0], Default: 0.55\n",
       "    task_id, Type: Categorical, Choices: {40981, 41146, 1489, 1067}, Default: 40981\n",
       "    trainsize, Type: UniformFloat, Range: [0.05, 1.0], Default: 0.525\n",
       "  Conditions:\n",
       "    colsample_bylevel | booster in {'dart', 'gbtree'}\n",
       "    colsample_bytree | booster in {'dart', 'gbtree'}\n",
       "    eta | booster in {'dart', 'gbtree'}\n",
       "    gamma | booster in {'dart', 'gbtree'}\n",
       "    max_depth | booster in {'dart', 'gbtree'}\n",
       "    min_child_weight | booster in {'dart', 'gbtree'}\n",
       "    rate_drop | booster == 'dart'\n",
       "    skip_drop | booster == 'dart'"
      ]
     },
     "execution_count": 59,
     "metadata": {},
     "output_type": "execute_result"
    }
   ],
   "source": [
    "bench = BenchmarkSet(\"iaml_xgboost\", download = False)\n",
    "bench.config_space"
   ]
  },
  {
   "cell_type": "code",
   "execution_count": 60,
   "metadata": {},
   "outputs": [],
   "source": [
    "df = pd.read_csv(bench.config.get_path(\"test_dataset\"))"
   ]
  },
  {
   "cell_type": "code",
   "execution_count": 82,
   "metadata": {},
   "outputs": [],
   "source": [
    "def plot_true_lc(ccc, yid = 1):\n",
    "    # Subset data to obtain learning curve for config\n",
    "    config = pd.DataFrame(data = ccc, index = [0])\n",
    "    config.drop(bench.config.fidelity_params, axis = 1, inplace=True)\n",
    "    pdf = df.merge(config, on=list(config.columns.values))\n",
    "    pdf = pdf.sort_values(\"trainsize\")\n",
    "    plt.plot(pdf[bench.config.fidelity_params[0]], pdf[bench.config.y_names[1]], marker = \"o\")"
   ]
  },
  {
   "cell_type": "code",
   "execution_count": 83,
   "metadata": {},
   "outputs": [],
   "source": [
    "def plot_lc_lcbench(ccc):\n",
    "    ccc[\"OpenML_task_id\"] = str(ccc[\"OpenML_task_id\"])\n",
    "    res = []\n",
    "    for j in range(5):\n",
    "        out = []\n",
    "        for i in range(51):\n",
    "            val = ccc.copy()\n",
    "            val.update({\"epoch\" : i+1})\n",
    "            out.append(bench.objective_function(val)['val_accuracy'])\n",
    "        res.append(out)\n",
    "        \n",
    "    colors = ['red', 'blue','orange', 'purple','green',]\n",
    "    for i in range(5):\n",
    "        plt.plot(range(51), res[i], color=colors[i])\n",
    "\n",
    "def plot_lc_rbv2(ccc):\n",
    "    ccc[\"task_id\"] = str(ccc[\"task_id\"])\n",
    "    ccc['repl'] = 1\n",
    "    res = []\n",
    "    bench.check - False\n",
    "    for j in range(5):\n",
    "        out = []\n",
    "        for i in range(95):\n",
    "            val = ccc.copy()\n",
    "            val.update({\"trainsize\" : i / 100. + 0.05})\n",
    "            if j < 0:\n",
    "                out.append(bench.objective_function(val)[bench.config.y_names[0]])\n",
    "            else:\n",
    "                mn = 0\n",
    "                for k in range(500):\n",
    "                    mn += bench.objective_function(val)[bench.config.y_names[0]]\n",
    "                out.append(mn)               \n",
    "        res.append(out / 100.)\n",
    "        \n",
    "    colors = ['red', 'blue','orange', 'purple','green']\n",
    "    for i in range(5):\n",
    "        plt.plot([x / 100 + 0.05 for x in range(95)], res[i], color=colors[i])\n",
    "\n",
    "def plot_lc_iaml(ccc):\n",
    "    ccc = {k: v for k, v in ccc.items() if pd.Series(v).notna().all()}\n",
    "    ccc[\"task_id\"] = str(ccc[\"task_id\"])\n",
    "    res = []\n",
    "    bench.check = False\n",
    "    out = []\n",
    "    for i in range(95):\n",
    "        val = ccc.copy()\n",
    "        val.update({\"trainsize\" : i / 100. + 0.05})\n",
    "        out.append(bench.objective_function(val)[bench.config.y_names[1]])\n",
    "        res.append(out)                    \n",
    "    colors = ['red']\n",
    "    plt.plot([x / 100 + 0.05 for x in range(95)], res[0], color=colors[0])\n"
   ]
  },
  {
   "cell_type": "code",
   "execution_count": 89,
   "metadata": {},
   "outputs": [
    {
     "name": "stdout",
     "output_type": "stream",
     "text": [
      "{'alpha': 27.428518, 'booster': 'dart', 'lambda': 0.00021242494, 'nrounds': 509.0, 'subsample': 0.33299062, 'task_id': 41146, 'trainsize': 0.1, 'colsample_bylevel': 0.19486125, 'colsample_bytree': 0.7341542, 'eta': 0.39063755, 'gamma': 0.0003413536, 'max_depth': 10.0, 'min_child_weight': 5.9011073, 'rate_drop': 0.47382692, 'skip_drop': 0.3877276}\n"
     ]
    },
    {
     "data": {
      "image/png": "[encoded data removed]",
      "text/plain": [
       "<Figure size 432x288 with 1 Axes>"
      ]
     },
     "metadata": {
      "needs_background": "light"
     },
     "output_type": "display_data"
    }
   ],
   "source": [
    "# Draw a sample configuration\n",
    "ccc = df.sample(1).to_dict()\n",
    "ccc = {k:list(ccc[k].values())[0] for k in bench.config_space.get_hyperparameter_names()}\n",
    "print(ccc)\n",
    "plot_true_lc(ccc)\n",
    "plot_lc_iaml(ccc)\n"
   ]
  },
  {
   "cell_type": "code",
   "execution_count": 40,
   "metadata": {},
   "outputs": [
    {
     "data": {
      "text/plain": [
       "['trainsize']"
      ]
     },
     "execution_count": 40,
     "metadata": {},
     "output_type": "execute_result"
    }
   ],
   "source": [
    "bench.config.fidelity_params"
   ]
  },
  {
   "cell_type": "code",
   "execution_count": 10,
   "metadata": {},
   "outputs": [
    {
     "data": {
      "text/plain": [
       "{'task_id': {1188247: 41146},\n",
       " 'trainsize': {1188247: 0.2},\n",
       " 'booster': {1188247: 'gbtree'},\n",
       " 'nrounds': {1188247: 1792},\n",
       " 'eta': {1188247: 0.0141838939283185},\n",
       " 'gamma': {1188247: 0.0113474520445439},\n",
       " 'lambda': {1188247: 18.6838303514871},\n",
       " 'alpha': {1188247: 0.0639125198817879},\n",
       " 'subsample': {1188247: 0.79392009829171},\n",
       " 'max_depth': {1188247: 13.0},\n",
       " 'min_child_weight': {1188247: 37.5623208496695},\n",
       " 'colsample_bytree': {1188247: 0.480777007266879},\n",
       " 'colsample_bylevel': {1188247: 0.619972503499594},\n",
       " 'rate_drop': {1188247: nan},\n",
       " 'skip_drop': {1188247: nan},\n",
       " 'mmce': {1188247: 0.0882122713414634},\n",
       " 'f1': {1188247: 0.909445925505636},\n",
       " 'auc': {1188247: 0.957296841491894},\n",
       " 'logloss': {1188247: 0.27104692091708},\n",
       " 'ramtrain': {1188247: 36.5},\n",
       " 'rammodel': {1188247: 1.141976},\n",
       " 'rampredict': {1188247: 11.9},\n",
       " 'timetrain': {1188247: 1.80900000000111},\n",
       " 'timepredict': {1188247: 0.221999999999753},\n",
       " 'mec': {1188247: 1.98912779658092},\n",
       " 'ias': {1188247: 0.0019900728559028},\n",
       " 'nf': {1188247: 20}}"
      ]
     },
     "execution_count": 10,
     "metadata": {},
     "output_type": "execute_result"
    }
   ],
   "source": [
    "ccc = df.sample(1).to_dict()\n",
    "ccc"
   ]
  },
  {
   "cell_type": "code",
   "execution_count": null,
   "metadata": {},
   "outputs": [],
   "source": []
  }
 ],
 "metadata": {
  "interpreter": {
   "hash": "935079f3ab4b06ec76910fd5af9cfadee87e8a756fe17d7789065f69c1782d29"
  },
  "kernelspec": {
   "display_name": "yahpo_gym",
   "language": "python",
   "name": "yahpo_gym"
  },
  "language_info": {
   "codemirror_mode": {
    "name": "ipython",
    "version": 3
   },
   "file_extension": ".py",
   "mimetype": "text/x-python",
   "name": "python",
   "nbconvert_exporter": "python",
   "pygments_lexer": "ipython3",
   "version": "3.7.12"
  }
 },
 "nbformat": 4,
 "nbformat_minor": 2
}
