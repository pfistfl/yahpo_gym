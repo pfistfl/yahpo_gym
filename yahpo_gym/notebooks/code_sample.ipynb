{
 "cells": [
  {
   "cell_type": "code",
   "execution_count": 14,
   "metadata": {},
   "outputs": [
    {
     "data": {
      "text/plain": [
       "[{'time': 36.340042,\n",
       "  'val_accuracy': 90.0806,\n",
       "  'val_cross_entropy': 0.44398955,\n",
       "  'val_balanced_accuracy': 0.7434968,\n",
       "  'test_cross_entropy': 0.5409517,\n",
       "  'test_balanced_accuracy': 0.7378832}]"
      ]
     },
     "execution_count": 14,
     "metadata": {},
     "output_type": "execute_result"
    }
   ],
   "source": [
    "from yahpo_gym import *\n",
    "b = BenchmarkSet('lcbench', instance='3945')\n",
    "# Sample a point from the ConfigSpace\n",
    "xs = b.get_opt_space().sample_configuration(1)\n",
    "# Evaluate the configuration\n",
    "b.objective_function(xs)"
   ]
  }
 ],
 "metadata": {
  "interpreter": {
   "hash": "ad33c89a3db67bdfe5fd2b730189669bf1bcf1b69024c438924b107c2144aef0"
  },
  "kernelspec": {
   "display_name": "Python 3.7.12 ('yahpo')",
   "language": "python",
   "name": "python3"
  },
  "language_info": {
   "codemirror_mode": {
    "name": "ipython",
    "version": 3
   },
   "file_extension": ".py",
   "mimetype": "text/x-python",
   "name": "python",
   "nbconvert_exporter": "python",
   "pygments_lexer": "ipython3",
   "version": "3.9.5"
  },
  "orig_nbformat": 4
 },
 "nbformat": 4,
 "nbformat_minor": 2
}
