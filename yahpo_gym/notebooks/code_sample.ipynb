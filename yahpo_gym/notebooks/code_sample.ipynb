{
 "cells": [
  {
   "cell_type": "code",
   "execution_count": 14,
   "metadata": {},
   "outputs": [
    {
     "data": {
      "text/plain": [
       "[{'time': 36.340042,\n",
       "  'val_accuracy': 90.0806,\n",
       "  'val_cross_entropy': 0.44398955,\n",
       "  'val_balanced_accuracy': 0.7434968,\n",
       "  'test_cross_entropy': 0.5409517,\n",
       "  'test_balanced_accuracy': 0.7378832}]"
      ]
     },
     "execution_count": 14,
     "metadata": {},
     "output_type": "execute_result"
    }
   ],
   "source": [
    "from yahpo_gym import *\n",
    "b = BenchmarkSet('lcbench')\n",
    "b.set_instance('3945')\n",
    "# Sample a point from the ConfigSpace (containing parameters for the instance and budget)\n",
    "value = b.config_space.sample_configuration(1).get_dictionary()\n",
    "# Evaluate the configuration\n",
    "b.objective_function(value)"
   ]
  },
  {
   "cell_type": "code",
   "execution_count": 13,
   "metadata": {},
   "outputs": [
    {
     "data": {
      "text/plain": [
       "['3945',\n",
       " '7593',\n",
       " '34539',\n",
       " '126025',\n",
       " '126026',\n",
       " '126029',\n",
       " '146212',\n",
       " '167083',\n",
       " '167104',\n",
       " '167149',\n",
       " '167152',\n",
       " '167161',\n",
       " '167168',\n",
       " '167181',\n",
       " '167184',\n",
       " '167185',\n",
       " '167190',\n",
       " '167200',\n",
       " '167201',\n",
       " '168329',\n",
       " '168330',\n",
       " '168331',\n",
       " '168335',\n",
       " '168868',\n",
       " '168908',\n",
       " '168910',\n",
       " '189354',\n",
       " '189862',\n",
       " '189865',\n",
       " '189866',\n",
       " '189873',\n",
       " '189905',\n",
       " '189906',\n",
       " '189908',\n",
       " '189909']"
      ]
     },
     "execution_count": 13,
     "metadata": {},
     "output_type": "execute_result"
    }
   ],
   "source": [
    "b.instances"
   ]
  }
 ],
 "metadata": {
  "interpreter": {
   "hash": "ad33c89a3db67bdfe5fd2b730189669bf1bcf1b69024c438924b107c2144aef0"
  },
  "kernelspec": {
   "display_name": "Python 3.7.12 ('yahpo')",
   "language": "python",
   "name": "python3"
  },
  "language_info": {
   "codemirror_mode": {
    "name": "ipython",
    "version": 3
   },
   "file_extension": ".py",
   "mimetype": "text/x-python",
   "name": "python",
   "nbconvert_exporter": "python",
   "pygments_lexer": "ipython3",
   "version": "3.7.12"
  },
  "orig_nbformat": 4
 },
 "nbformat": 4,
 "nbformat_minor": 2
}
