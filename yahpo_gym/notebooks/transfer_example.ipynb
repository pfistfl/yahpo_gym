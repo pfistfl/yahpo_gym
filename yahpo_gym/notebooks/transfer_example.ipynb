{
 "cells": [
  {
   "cell_type": "markdown",
   "metadata": {},
   "source": [
    "## Hyperparameter Transfer\n",
    "\n",
    "In the following example, we aim to find a single configuration \n",
    "from which we hope to achieve optimal performance on future datasets.\n",
    "\n",
    "In this case, we are interested in a solution across `instances`. \n",
    "We therefore do **not** set the instance on construction."
   ]
  },
  {
   "cell_type": "markdown",
   "metadata": {},
   "source": []
  },
  {
   "cell_type": "code",
   "execution_count": 38,
   "metadata": {},
   "outputs": [],
   "source": [
    "from yahpo_gym import * \n",
    "import random\n",
    "b = BenchmarkSet(\"lcbench\")"
   ]
  },
  {
   "cell_type": "code",
   "execution_count": 34,
   "metadata": {},
   "outputs": [],
   "source": [
    "# First we split  the instances (= datasets) into train and  test instances\n",
    "train_ins = random.sample(b.instances, 20)\n",
    "test_ins = [x for x in b.instances if x not in train_ins]"
   ]
  },
  {
   "cell_type": "code",
   "execution_count": 44,
   "metadata": {},
   "outputs": [],
   "source": [
    "def batchify(xs, instances, ins_name):\n",
    "    \"\"\"\n",
    "    Turn a single configuration (Dictionary) into a list of configurations with varying instances.\n",
    "    \"\"\"\n",
    "    res = []\n",
    "    for idx in instances:\n",
    "        xc = xs.copy()\n",
    "        xc.update({ins_name: idx})\n",
    "        res += [xc]\n",
    "    return res\n",
    "\n",
    "def draw_batch(instances, ins_name):\n",
    "    \"\"\"\n",
    "    Draw a random configuration across all instances\n",
    "    \"\"\"\n",
    "    cs = b.get_opt_space().sample_configuration(1).get_dictionary()\n",
    "    return batchify(cs,instances, ins_name)"
   ]
  },
  {
   "cell_type": "code",
   "execution_count": 46,
   "metadata": {},
   "outputs": [],
   "source": [
    "# FIXME: Waiting for new surrogates\n",
    "# bb = draw_batch(train_ins, 'OpenML_task_id')\n",
    "# b.objective_function(bb)"
   ]
  },
  {
   "cell_type": "code",
   "execution_count": null,
   "metadata": {},
   "outputs": [],
   "source": []
  }
 ],
 "metadata": {
  "interpreter": {
   "hash": "ad33c89a3db67bdfe5fd2b730189669bf1bcf1b69024c438924b107c2144aef0"
  },
  "kernelspec": {
   "display_name": "Python 3.9.5 ('yahpo')",
   "language": "python",
   "name": "python3"
  },
  "language_info": {
   "codemirror_mode": {
    "name": "ipython",
    "version": 3
   },
   "file_extension": ".py",
   "mimetype": "text/x-python",
   "name": "python",
   "nbconvert_exporter": "python",
   "pygments_lexer": "ipython3",
   "version": "3.9.5"
  },
  "orig_nbformat": 4
 },
 "nbformat": 4,
 "nbformat_minor": 2
}
