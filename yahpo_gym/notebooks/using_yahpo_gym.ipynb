{
 "cells": [
  {
   "cell_type": "markdown",
   "metadata": {},
   "source": [
    "# Using YAHPO Gym: A quick introduction\n",
    "\n",
    "Using YAHPO GYM we can benchmark a new Hyperparameter optimization method on a large amount of problems in a very short time-frame.\n",
    "This tutorial walks us through the core concepts and functionality of `yahpo_gym` and showscases a practical example.\n",
    "\n",
    "YAHPO GYM consists of several collections of `instances`, so-called `scenarios`.\n",
    "\n",
    "All `instances` within a `scenario` share the same search space and targets.\n",
    "\n",
    "To provide a more concrete example, the collection of all tasks in `\"lcbench\"` is a `scenario`,\n",
    "while a single task (e.g. task `\"3945\"`) is called an `instance`.\n",
    "\n",
    "An `instance` thus defines a single HPO problem for a given ML algorithm and task."
   ]
  },
  {
   "cell_type": "markdown",
   "metadata": {},
   "source": [
    "## Core functionality: BenchmarkSet\n",
    "A `BenchmarkSet` can be instantiated using a `scenario` and an `instance. \n",
    "\n",
    "It contains all logic required to evaluate tthe surrogate mdoel for a fiven hyperparameter configuration.\n"
   ]
  },
  {
   "cell_type": "code",
   "execution_count": 3,
   "metadata": {},
   "outputs": [],
   "source": [
    "from yahpo_gym import *\n",
    "b = BenchmarkSet(scenario=\"lcbench\")"
   ]
  },
  {
   "cell_type": "markdown",
   "metadata": {},
   "source": [
    "This allows us to query several important properties of the benchmark problem:\n",
    "\n",
    "- scenario : The scenario f the configuration\n",
    "- y_names  : The names of the target variables included in the surrogate model\n",
    "- hp_names: The names of all hyperparameters\n",
    "- cat_names : The names of categorical hyperparameters\n",
    "- cont_names  :  The names of continuous hyperparameters\n",
    "- fidelity_params  : The name of the fidelity parameter(s)\n",
    "- instance_names : The column pertaining to the available instances in a dataset\n",
    "- runtime_name : The name of parameters remeasuring runtime of  the model. \n",
    "- data : A `pandas` `DataFrame` containing the data used to train the surrogates. Only available if the data was downloaded."
   ]
  },
  {
   "cell_type": "code",
   "execution_count": 18,
   "metadata": {},
   "outputs": [
    {
     "data": {
      "text/plain": [
       "['time',\n",
       " 'val_accuracy',\n",
       " 'val_cross_entropy',\n",
       " 'val_balanced_accuracy',\n",
       " 'test_cross_entropy',\n",
       " 'test_balanced_accuracy']"
      ]
     },
     "execution_count": 18,
     "metadata": {},
     "output_type": "execute_result"
    }
   ],
   "source": [
    "# We can for example query the target outputs of our surrogate:\n",
    "b.targets"
   ]
  },
  {
   "cell_type": "code",
   "execution_count": 19,
   "metadata": {},
   "outputs": [
    {
     "data": {
      "text/plain": [
       "['3945',\n",
       " '7593',\n",
       " '34539',\n",
       " '126025',\n",
       " '126026',\n",
       " '126029',\n",
       " '146212',\n",
       " '167083',\n",
       " '167104',\n",
       " '167149',\n",
       " '167152',\n",
       " '167161',\n",
       " '167168',\n",
       " '167181',\n",
       " '167184',\n",
       " '167185',\n",
       " '167190',\n",
       " '167200',\n",
       " '167201',\n",
       " '168329',\n",
       " '168330',\n",
       " '168331',\n",
       " '168335',\n",
       " '168868',\n",
       " '168908',\n",
       " '168910',\n",
       " '189354',\n",
       " '189862',\n",
       " '189865',\n",
       " '189866',\n",
       " '189873',\n",
       " '189905',\n",
       " '189906',\n",
       " '189908',\n",
       " '189909']"
      ]
     },
     "execution_count": 19,
     "metadata": {},
     "output_type": "execute_result"
    }
   ],
   "source": [
    "# Or the available instances:\n",
    "b.instances"
   ]
  },
  {
   "cell_type": "markdown",
   "metadata": {},
   "source": [
    "A list of all available scenarios can be obtained using `list_scenarios()`:"
   ]
  },
  {
   "cell_type": "code",
   "execution_count": 20,
   "metadata": {},
   "outputs": [
    {
     "data": {
      "text/plain": [
       "['lcbench',\n",
       " 'fcnet',\n",
       " 'nb301',\n",
       " 'rbv2_svm',\n",
       " 'rbv2_ranger',\n",
       " 'rbv2_rpart',\n",
       " 'rbv2_glmnet',\n",
       " 'rbv2_xgboost',\n",
       " 'rbv2_aknn',\n",
       " 'rbv2_super',\n",
       " 'iaml_ranger',\n",
       " 'iaml_rpart',\n",
       " 'iaml_glmnet',\n",
       " 'iaml_xgboost',\n",
       " 'iaml_super']"
      ]
     },
     "execution_count": 20,
     "metadata": {},
     "output_type": "execute_result"
    }
   ],
   "source": [
    "list_scenarios()"
   ]
  },
  {
   "cell_type": "markdown",
   "metadata": {},
   "source": [
    "We can now set an instance, this defines the instance (i.e. concrete dataset) to be evaluated.\n",
    "\n",
    "We can furthermore obtain the search space (a `ConfigSpace`) using `get_opt_space()`.\n",
    "\n",
    "Sample a concrete configuration and evaluate it using `objective_function`."
   ]
  },
  {
   "cell_type": "code",
   "execution_count": 29,
   "metadata": {},
   "outputs": [
    {
     "data": {
      "text/plain": [
       "[{'time': 1.017689,\n",
       "  'val_accuracy': 85.35962,\n",
       "  'val_cross_entropy': 0.406623,\n",
       "  'val_balanced_accuracy': 0.7048986,\n",
       "  'test_cross_entropy': 0.5105626,\n",
       "  'test_balanced_accuracy': 0.69233507}]"
      ]
     },
     "execution_count": 29,
     "metadata": {},
     "output_type": "execute_result"
    }
   ],
   "source": [
    "# Set an instance\n",
    "b.set_instance(\"3945\")\n",
    "# Sample a point from the configspace\n",
    "xs = b.get_opt_space().sample_configuration(1)\n",
    "# Evaluate the configurattion\n",
    "b.objective_function(xs)"
   ]
  },
  {
   "cell_type": "markdown",
   "metadata": {},
   "source": [
    "The input to `objective_function` can be a `Dictionary` or a `ConfigSpace.Configuration`:"
   ]
  },
  {
   "cell_type": "code",
   "execution_count": 30,
   "metadata": {},
   "outputs": [
    {
     "data": {
      "text/plain": [
       "Configuration:\n",
       "  OpenML_task_id, Constant: '3945'\n",
       "  batch_size, Value: 56\n",
       "  epoch, Value: 44\n",
       "  learning_rate, Value: 0.004042817033852988\n",
       "  max_dropout, Value: 0.6580329526348683\n",
       "  max_units, Value: 528.9344115500733\n",
       "  momentum, Value: 0.7264631114797273\n",
       "  num_layers, Value: 1\n",
       "  weight_decay, Value: 0.047354860575576266"
      ]
     },
     "execution_count": 30,
     "metadata": {},
     "output_type": "execute_result"
    }
   ],
   "source": [
    "xs"
   ]
  },
  {
   "cell_type": "markdown",
   "metadata": {},
   "source": [
    "## Setup (One Time)\n",
    "\n",
    "Before first use, `yahpo_gym` requires a simple one-time setup step to\n",
    "download all meta-data required for prediction using surrogates.\n",
    "\n",
    "This **metadata** can be downloaded (or cloned) from GitHub:\n",
    "(https://github.com/slds-lmu/yahpo_data)\n",
    "\n",
    "Once downloaded, we can run the chunk below to set up the path to the downloaded metadata.\n",
    "The following chunk assumes, you downloaded the **metadata** to the \"~/yahpo_data\" directory."
   ]
  },
  {
   "cell_type": "code",
   "execution_count": null,
   "metadata": {},
   "outputs": [],
   "source": [
    "# Initialize the local config & set path for surrogates and metadata\n",
    "from yahpo_gym import local_config\n",
    "local_config.init_config()\n",
    "local_config.set_data_path(\"~/yahpo_data\")"
   ]
  },
  {
   "cell_type": "markdown",
   "metadata": {},
   "source": [
    "## Separate Fidelity Space\n",
    "For some scenarios we require the search space / configuration without\n",
    "the *fidelity parameters*. \n",
    "This can be achieved using `drop_fidelity_params':"
   ]
  },
  {
   "cell_type": "code",
   "execution_count": 23,
   "metadata": {},
   "outputs": [],
   "source": [
    "b = BenchmarkSet(\"lcbench\", instance = \"3945\")\n",
    "# Sample a point from the configspace\n",
    "xs = b.get_opt_space(drop_fidelity_params=True).sample_configuration(1)"
   ]
  },
  {
   "cell_type": "code",
   "execution_count": 24,
   "metadata": {},
   "outputs": [
    {
     "data": {
      "text/plain": [
       "Configuration:\n",
       "  OpenML_task_id, Constant: '3945'\n",
       "  batch_size, Value: 76\n",
       "  learning_rate, Value: 0.006285128775917201\n",
       "  max_dropout, Value: 0.2810167283785543\n",
       "  max_units, Value: 454.16949608235694\n",
       "  momentum, Value: 0.44264088364496557\n",
       "  num_layers, Value: 1\n",
       "  weight_decay, Value: 0.027351429383097828"
      ]
     },
     "execution_count": 24,
     "metadata": {},
     "output_type": "execute_result"
    }
   ],
   "source": [
    "# Drop the fidelity param 'epoch':\n",
    "xs"
   ]
  },
  {
   "cell_type": "code",
   "execution_count": 25,
   "metadata": {},
   "outputs": [
    {
     "data": {
      "text/plain": [
       "{'OpenML_task_id': '3945',\n",
       " 'batch_size': 76,\n",
       " 'learning_rate': 0.006285128775917201,\n",
       " 'max_dropout': 0.2810167283785543,\n",
       " 'max_units': 454.16949608235694,\n",
       " 'momentum': 0.44264088364496557,\n",
       " 'num_layers': 1,\n",
       " 'weight_decay': 0.027351429383097828,\n",
       " 'epoch': 52}"
      ]
     },
     "execution_count": 25,
     "metadata": {},
     "output_type": "execute_result"
    }
   ],
   "source": [
    "# Convert to dictionary and add epoch\n",
    "xs = xs.get_dictionary()\n",
    "xs.update({'epoch':52})\n",
    "xs"
   ]
  },
  {
   "cell_type": "code",
   "execution_count": 26,
   "metadata": {},
   "outputs": [
    {
     "data": {
      "text/plain": [
       "[{'time': 1.017689,\n",
       "  'val_accuracy': 83.04666,\n",
       "  'val_cross_entropy': 0.40995848,\n",
       "  'val_balanced_accuracy': 0.7308816,\n",
       "  'test_cross_entropy': 0.52149105,\n",
       "  'test_balanced_accuracy': 0.7200676}]"
      ]
     },
     "execution_count": 26,
     "metadata": {},
     "output_type": "execute_result"
    }
   ],
   "source": [
    "b.objective_function(xs)"
   ]
  }
 ],
 "metadata": {
  "interpreter": {
   "hash": "b3cdc79f509a9ca6cc625385dfd789e9f9f8ab6d1f415976660039c24316de9a"
  },
  "kernelspec": {
   "display_name": "local-venv",
   "language": "python",
   "name": "python3"
  },
  "language_info": {
   "codemirror_mode": {
    "name": "ipython",
    "version": 3
   },
   "file_extension": ".py",
   "mimetype": "text/x-python",
   "name": "python",
   "nbconvert_exporter": "python",
   "pygments_lexer": "ipython3",
   "version": "3.8.12"
  }
 },
 "nbformat": 4,
 "nbformat_minor": 2
}
